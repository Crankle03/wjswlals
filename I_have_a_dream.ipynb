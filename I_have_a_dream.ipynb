{
  "nbformat": 4,
  "nbformat_minor": 0,
  "metadata": {
    "colab": {
      "provenance": [],
      "authorship_tag": "ABX9TyPWYtY6Sm3bURLSJ0dlUyNV",
      "include_colab_link": true
    },
    "kernelspec": {
      "name": "python3",
      "display_name": "Python 3"
    },
    "language_info": {
      "name": "python"
    }
  },
  "cells": [
    {
      "cell_type": "markdown",
      "metadata": {
        "id": "view-in-github",
        "colab_type": "text"
      },
      "source": [
        "<a href=\"https://colab.research.google.com/github/Crankle03/wjswlals/blob/main/I_have_a_dream.ipynb\" target=\"_parent\"><img src=\"https://colab.research.google.com/assets/colab-badge.svg\" alt=\"Open In Colab\"/></a>"
      ]
    },
    {
      "cell_type": "code",
      "execution_count": null,
      "metadata": {
        "colab": {
          "base_uri": "https://localhost:8080/"
        },
        "id": "-eFg9kgMzMQU",
        "outputId": "b5814dbe-9c8e-402c-b725-a128c341aaba"
      },
      "outputs": [
        {
          "output_type": "stream",
          "name": "stdout",
          "text": [
            "{'\"**': 1, '\"1': 1, '\"for': 1, '\"insufficient': 1, '\"justice': 1, '\"life': 1, '\"unalienable': 1, '\"when': 1, '**we': 1, 'ago': 1, 'ahead': 1, 'allow': 1, 'alone': 1, 'also': 1, 'always': 1, 'am': 1, 'architects': 1, 'asking': 1, 'autumn': 1, 'awakening': 1, 'bad': 1, 'bank': 1, 'bankrupt': 1, 'basic': 1, 'beacon': 1, 'been': 1, 'beginning': 1, 'believes': 1, 'bitterness': 1, 'black': 1, 'blow': 1, 'bodies': 1, 'bound': 1, 'bright': 1, 'brotherhood': 1, 'brothers': 1, 'brutality': 1, 'business': 1, 'capital': 1, 'captivity': 1, 'chains': 1, 'cities': 1, 'citizens': 1, 'citizenship': 1, 'civil': 1, 'color': 1, 'community': 1, 'concerned': 1, 'condition': 1, 'conduct': 1, 'constitution': 1, 'content': 1, 'continue': 1, 'cooling': 1, 'corners': 1, 'creative': 1, 'crippled': 1, 'cup': 1, 'dark': 1, 'day': 1, 'daybreak': 1, 'declaration': 1, 'decree': 1, 'deeds': 1, 'defaulted': 1, 'degenerate': 1, 'demand': 1, 'democracy': 1, 'demonstration': 1, 'desolate': 1, 'devotees': 1, 'discipline': 1, 'discontent': 1, 'discrimination': 1, 'distrust': 1, 'dramatize': 1, 'drinking': 1, 'drug': 1, 'emancipation': 1, 'emerges': 1, 'engage': 1, 'engulfed': 1, 'equality': 1, 'every': 1, 'evidenced': 1, 'exile': 1, 'fall': 1, 'fatal': 1, 'fatigue': 1, 'fierce': 1, 'finds': 1, 'five': 1, 'flames': 1, 'forever': 1, 'foundations': 1, 'free': 1, 'gain': 1, 'gaining': 1, 'ghetto': 1, 'give': 1, 'given': 1, 'go': 1, \"god's\": 1, 'gradualism': 1, 'granted': 1, 'greatest': 1, 'guaranteed': 1, 'guilty': 1, 'had': 1, 'hallowed': 1, 'happiness': 1, 'happy': 1, 'hatred': 1, 'he': 1, 'heavy': 1, 'heights': 1, 'heir': 1, 'her': 1, 'high': 1, 'highways': 1, 'himself': 1, 'honoring': 1, 'horrors': 1, 'hotels': 1, 'if': 1, 'independence': 1, 'inextricably': 1, 'insofar': 1, 'instead': 1, 'insufficient': 1, 'invigorating': 1, 'island': 1, 'join': 1, 'joyous': 1, 'land': 1, 'languished': 1, 'larger': 1, 'lead': 1, 'leads': 1, 'legitimate': 1, 'let': 1, 'liberty': 1, 'life': 1, 'lift': 1, 'light': 1, 'lives': 1, 'lodging': 1, 'lonely': 1, 'luxury': 1, 'magnificent': 1, 'majestic': 1, 'manacles': 1, 'many': 1, 'march': 1, 'marked': 1, 'marvelous': 1, 'material': 1, 'meeting': 1, 'midst': 1, 'mighty': 1, 'militancy': 1, 'millions': 1, 'mississippi': 1, 'mobility': 1, 'moment': 1, 'momentous': 1, 'motels': 1, 'my': 1, \"nation's\": 1, 'needed': 1, 'neither': 1, 'night': 1, 'nineteen': 1, 'nor': 1, 'nothing': 1, 'obligation': 1, 'obvious': 1, 'ocean': 1, 'only': 1, 'opportunity': 1, 'or': 1, 'overlook': 1, 'own': 1, 'palace': 1, 'pass': 1, 'path': 1, 'place': 1, 'plane': 1, 'pledge': 1, 'police': 1, 'poverty': 1, 'presence': 1, 'process': 1, 'proclamation': 1, 'promise': 1, 'promises': 1, 'prosperity': 1, 'protest': 1, 'pursuit': 1, 'quicksands': 1, 'real': 1, 'reality': 1, 'remind': 1, 'republic': 1, 'rest': 1, 'returns': 1, 'revolt': 1, 'riches': 1, 'righteousness': 1, 'rightful': 1, 'rights\"': 1, 'robbed': 1, 'rock': 1, 'rolls': 1, 'rude': 1, 'sacred': 1, 'sadly': 1, 'satisfied?\"': 1, 'satisfy': 1, 'say': 1, 'score': 1, 'seared': 1, 'security': 1, 'seek': 1, 'self-hood': 1, 'sense': 1, 'shadow': 1, 'shake': 1, 'shall': 1, 'shameful': 1, 'signed': 1, 'signing': 1, 'signs': 1, 'sixty-three': 1, 'slaves': 1, 'smaller': 1, 'society': 1, 'solid': 1, 'something': 1, 'soul': 1, 'spot': 1, 'stating': 1, 'steam': 1, 'stream': 1, 'stripped': 1, 'struggle': 1, 'summer': 1, 'sunlit': 1, 'sweltering': 1, 'symbolic': 1, 'take': 1, 'thirst': 1, 'threshold': 1, 'tied': 1, 'tranquility': 1, 'tranquilizing': 1, 'travel': 1, 'turn': 1, 'unspeakable': 1, 'up': 1, 'upon': 1, 'usual': 1, 'valley': 1, 'vast': 1, 'vaults': 1, 'victim': 1, 'violence': 1, 'warm': 1, 'waters': 1, 'well': 1, 'were': 1, 'what': 1, 'when': 1, 'whirlwinds': 1, 'whites': 1, 'whose': 1, 'withering': 1, 'words': 1, 'wrongful': 1, 'wrote': 1, 'yes': 1, 'york': 1, '\"': 2, 'again': 2, 'back': 2, 'believe': 2, 'came': 2, 'cash': 2, 'children': 2, 'destiny': 2, 'dignity': 2, 'down': 2, 'end': 2, 'force': 2, 'funds': 2, 'here': 2, 'his': 2, 'history': 2, 'hope': 2, 'i': 2, 'injustice': 2, 'into': 2, 'like': 2, \"negro's\": 2, 'new': 2, 'off': 2, 'physical': 2, 'promissory': 2, 'racial': 2, 'realize': 2, 'refuse': 2, 'rights': 2, 'rise': 2, 'segregation': 2, 'so': 2, 'stand': 2, 'they': 2, 'those': 2, 'urgency': 2, 'vote': 2, 'walk': 2, 'was': 2, 'would': 2, 'you': 2, 'all': 3, 'american': 3, 'an': 3, 'can': 3, 'great': 3, 'it': 3, 'make': 3, 'men': 3, 'never': 3, 'no': 3, 'note': 3, 'people': 3, 'still': 3, 'us': 3, \"we've\": 3, 'white': 3, 'america': 4, 'but': 4, 'by': 4, 'from': 4, 'have': 4, 'hundred': 4, 'later': 4, 'on': 4, 'until': 4, 'who': 4, 'with': 4, 'check': 5, 'has': 5, 'one': 5, 'there': 5, 'time': 5, 'today': 5, 'which': 5, 'years': 5, 'are': 6, 'cannot': 6, 'for': 6, 'freedom': 6, 'justice': 6, 'long': 6, 'nation': 6, 'now': 6, 'their': 6, 'come': 7, 'must': 7, 'satisfied': 7, 'not': 9, 'this': 9, 'will': 9, 'that': 10, 'be': 12, 'negro': 12, 'our': 14, 'in': 16, 'is': 18, 'as': 19, 'we': 19, 'a': 22, 'and': 22, 'to': 35, 'of': 56, 'the': 66}\n"
          ]
        }
      ],
      "source": [
        "class text_static:\n",
        "    def processLine(self, line, wordCounts):\n",
        "        line = self.replacePunctuations(line)\n",
        "        words = line.split()\n",
        "        for word in words:\n",
        "            if word in wordCounts:\n",
        "                wordCounts[word] += 1\n",
        "            else:\n",
        "                wordCounts[word] = 1\n",
        "\n",
        "    def replacePunctuations(self, line):\n",
        "        for ch in line:\n",
        "            if ch in \".,;:\":\n",
        "                line = line.replace(ch, \" \")\n",
        "        return line\n",
        "\n",
        "    def wordCount(self, filename):\n",
        "        f = open(filename, \"r\")\n",
        "        lines = f.readlines()\n",
        "        wordCounts = {}\n",
        "        for line in lines:\n",
        "            self.processLine(line.lower(), wordCounts)\n",
        "        return wordCounts\n",
        "\n",
        "    def arrange_pairs(self, wordCounts):\n",
        "        pairs = list(wordCounts.items())\n",
        "        items = [[x, y] for (y, x) in pairs]\n",
        "        items.sort()\n",
        "        items = {x: y for [y, x] in items}\n",
        "        return items\n",
        "\n",
        "T = text_static()\n",
        "fn = \"I_have_a_dream.txt\"\n",
        "wordCounts = T.wordCount(fn)\n",
        "wordCounts = T.arrange_pairs(wordCounts)\n",
        "\n",
        "print(wordCounts)\n"
      ]
    },
    {
      "cell_type": "code",
      "source": [],
      "metadata": {
        "id": "mnHgwW3SzOdY"
      },
      "execution_count": null,
      "outputs": []
    }
  ]
}